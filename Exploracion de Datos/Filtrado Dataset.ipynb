{
 "cells": [
  {
   "cell_type": "code",
   "execution_count": null,
   "metadata": {},
   "outputs": [],
   "source": [
    "import numpy as np\n",
    "import matplotlib.pyplot as plt\n",
    "import scipy.io\n",
    "from scipy import signal\n",
    "from statistics import mode"
   ]
  },
  {
   "cell_type": "code",
   "execution_count": null,
   "metadata": {},
   "outputs": [],
   "source": [
    "def get_mode_lastx(data, i, n=500):\n",
    "    if i - n < 0:\n",
    "        return mode(data[:i])\n",
    "    else:\n",
    "        return mode(data[i-n:i])\n",
    "\n"
   ]
  },
  {
   "cell_type": "code",
   "execution_count": null,
   "metadata": {},
   "outputs": [],
   "source": [
    "def denoise_rssi(rssi, threshold=-15):\n",
    "    new_rssi = np.copy(rssi)\n",
    "    i = 1\n",
    "    n_samples = len(new_rssi)\n",
    "    \n",
    "    while i < n_samples:\n",
    "        delta = new_rssi[i] - new_rssi[i-1]\n",
    "        \n",
    "        if delta < threshold:\n",
    "            j = i\n",
    "            pre = new_rssi[i-1]\n",
    "            #pre = get_mode_lastx(new_rssi, i-1)\n",
    "            val = new_rssi[i]\n",
    "            \n",
    "            while new_rssi[j] == val or new_rssi[j] < pre:\n",
    "                new_rssi[j] = pre\n",
    "                j += 1\n",
    "                \n",
    "                if j==n_samples:\n",
    "                    break\n",
    "            \n",
    "            i = j\n",
    "            \n",
    "        i += 1\n",
    "            \n",
    "    return new_rssi\n",
    "\n"
   ]
  },
  {
   "cell_type": "code",
   "execution_count": null,
   "metadata": {},
   "outputs": [],
   "source": [
    "f = open('rssi_22', \"r\")\n",
    "rssi = np.fromfile(f, dtype=np.int32)\n",
    "\n",
    "denoised_rssi = denoise_rssi(rssi)\n",
    "\n",
    "plt.figure(figsize=(16,6))\n",
    "plt.plot(rssi, label='raw')\n",
    "plt.plot(denoised_rssi, 'r', label='denoised')\n",
    "plt.title(\"RSSI\")\n",
    "plt.xlabel(\"time [ms]\")\n",
    "plt.ylabel(\"rssi [dB]\")\n",
    "plt.legend()\n",
    "plt.show()"
   ]
  },
  {
   "cell_type": "code",
   "execution_count": null,
   "metadata": {},
   "outputs": [],
   "source": [
    "\n",
    "\n",
    "window_lenght = 799\n",
    "polyorder = 1\n",
    "filtered = signal.savgol_filter(denoised_rssi, window_lenght, polyorder)\n",
    "\n",
    "s = 0\n",
    "e = -1\n",
    "\n",
    "plt.figure(figsize=(16,6))\n",
    "plt.plot(rssi[s:e])\n",
    "plt.plot(filtered[s:e], 'r')\n",
    "plt.title(\"RSSI filtered using Savitzky-Golay filter (window={}, order={})\".format(window_lenght, polyorder))\n",
    "plt.xlabel(\"time [ms]\")\n",
    "plt.ylabel(\"rssi [dB]\")\n",
    "plt.show()\n",
    "\n"
   ]
  },
  {
   "cell_type": "code",
   "execution_count": null,
   "metadata": {},
   "outputs": [],
   "source": [
    "\n",
    "\n",
    "factor = 13\n",
    "downsampled = signal.decimate(filtered, factor)\n",
    "\n",
    "plt.figure(figsize=(16,6))\n",
    "plt.plot(downsampled, label='downsampled')\n",
    "plt.title(\"Downsampling signal\")\n",
    "plt.xlabel(\"samples\")\n",
    "plt.ylabel(\"rssi [dB]\")\n",
    "plt.show()\n",
    "\n"
   ]
  },
  {
   "cell_type": "code",
   "execution_count": null,
   "metadata": {},
   "outputs": [],
   "source": [
    "kernel_size = 149\n",
    "filtered2 = signal.medfilt(downsampled, kernel_size)\n",
    "\n",
    "plt.figure(figsize=(16,6))\n",
    "plt.plot(downsampled[s:e], label='denoised')\n",
    "plt.plot(filtered2[s:e], 'r', label='filtered')\n",
    "plt.title(\"Re-filtered using Median filter (kernel={})\".format(kernel_size))\n",
    "plt.xlabel(\"time [ms]\")\n",
    "plt.ylabel(\"rssi [dB]\")\n",
    "plt.show()"
   ]
  },
  {
   "cell_type": "code",
   "execution_count": null,
   "metadata": {},
   "outputs": [],
   "source": [
    "def process_rssi(rssi):\n",
    "    denoised_rssi = denoise_rssi(rssi)\n",
    "    filtered = signal.savgol_filter(denoised_rssi, 799, 1)\n",
    "    downsampled = signal.decimate(filtered, 13)\n",
    "    filtered2 = signal.medfilt(downsampled, 149)\n",
    "    return filtered2"
   ]
  },
  {
   "cell_type": "code",
   "execution_count": null,
   "metadata": {},
   "outputs": [],
   "source": [
    "for i in range(20):\n",
    "    \n",
    "    filename = \"rssi_00 + str(i)\n",
    "    f = open(filename, \"r\")\n",
    "    rssi = np.fromfile(f, dtype=np.int32)\n",
    "    processed = process_rssi(rssi)\n",
    "\n",
    "    fig, axs = plt.subplots(2, figsize=(16,8))\n",
    "    fig.suptitle('RSSI processing data{}'.format(i))\n",
    "    axs[0].plot(rssi, label='raw')\n",
    "    axs[1].plot(processed, 'r', label='processed')\n",
    "\n"
   ]
  },
  {
   "cell_type": "code",
   "execution_count": null,
   "metadata": {},
   "outputs": [],
   "source": []
  }
 ],
 "metadata": {
  "kernelspec": {
   "display_name": "Python 3",
   "language": "python",
   "name": "python3"
  },
  "language_info": {
   "codemirror_mode": {
    "name": "ipython",
    "version": 3
   },
   "file_extension": ".py",
   "mimetype": "text/x-python",
   "name": "python",
   "nbconvert_exporter": "python",
   "pygments_lexer": "ipython3",
   "version": "3.8.5"
  }
 },
 "nbformat": 4,
 "nbformat_minor": 4
}
